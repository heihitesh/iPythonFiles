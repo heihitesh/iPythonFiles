{
  "nbformat": 4,
  "nbformat_minor": 0,
  "metadata": {
    "kernelspec": {
      "display_name": "Python 3",
      "language": "python",
      "name": "python3"
    },
    "language_info": {
      "codemirror_mode": {
        "name": "ipython",
        "version": 3
      },
      "file_extension": ".py",
      "mimetype": "text/x-python",
      "name": "python",
      "nbconvert_exporter": "python",
      "pygments_lexer": "ipython3",
      "version": "3.6.1"
    },
    "colab": {
      "name": "3_function_arguments.ipynb",
      "provenance": [],
      "include_colab_link": true
    }
  },
  "cells": [
    {
      "cell_type": "markdown",
      "metadata": {
        "id": "view-in-github",
        "colab_type": "text"
      },
      "source": [
        "<a href=\"https://colab.research.google.com/github/itshiteshverma/iPythonFiles/blob/master/3_function_arguments.ipynb\" target=\"_parent\"><img src=\"https://colab.research.google.com/assets/colab-badge.svg\" alt=\"Open In Colab\"/></a>"
      ]
    },
    {
      "cell_type": "markdown",
      "metadata": {
        "id": "w3CkbSeDli2B",
        "colab_type": "text"
      },
      "source": [
        "# Function Arguments\n"
      ]
    },
    {
      "cell_type": "code",
      "metadata": {
        "id": "-1mzIs-Nli2F",
        "colab_type": "code",
        "colab": {},
        "outputId": "506d412c-ea51-497a-c4be-dea9083ab559"
      },
      "source": [
        "def greet(name, msg):\n",
        "    \"\"\"\n",
        "    This function greets to person with the provided message\n",
        "    \"\"\"\n",
        "    print(\"Hello {0} , {1}\".format(name, msg))\n",
        "\n",
        "#call the function with arguments\n",
        "greet(\"satish\", \"Good Morning\")\n"
      ],
      "execution_count": 0,
      "outputs": [
        {
          "output_type": "stream",
          "text": [
            "Hello satish , Good Morning\n"
          ],
          "name": "stdout"
        }
      ]
    },
    {
      "cell_type": "code",
      "metadata": {
        "id": "K7FdEC-_li2M",
        "colab_type": "code",
        "colab": {},
        "outputId": "9d05d4cf-7a5a-4e55-a1b0-09e0c0722333"
      },
      "source": [
        "#suppose if we pass one argument\n",
        "\n",
        "greet(\"satish\") #will get an error\n"
      ],
      "execution_count": 0,
      "outputs": [
        {
          "output_type": "error",
          "ename": "TypeError",
          "evalue": "greet() missing 1 required positional argument: 'msg'",
          "traceback": [
            "\u001b[0;31m---------------------------------------------------------------------------\u001b[0m",
            "\u001b[0;31mTypeError\u001b[0m                                 Traceback (most recent call last)",
            "\u001b[0;32m<ipython-input-3-b48ea98044bf>\u001b[0m in \u001b[0;36m<module>\u001b[0;34m()\u001b[0m\n\u001b[1;32m      1\u001b[0m \u001b[0;31m#suppose if we pass one argument\u001b[0m\u001b[0;34m\u001b[0m\u001b[0;34m\u001b[0m\u001b[0m\n\u001b[1;32m      2\u001b[0m \u001b[0;34m\u001b[0m\u001b[0m\n\u001b[0;32m----> 3\u001b[0;31m \u001b[0mgreet\u001b[0m\u001b[0;34m(\u001b[0m\u001b[0;34m\"satish\"\u001b[0m\u001b[0;34m)\u001b[0m \u001b[0;31m#will get an error\u001b[0m\u001b[0;34m\u001b[0m\u001b[0m\n\u001b[0m",
            "\u001b[0;31mTypeError\u001b[0m: greet() missing 1 required positional argument: 'msg'"
          ]
        }
      ]
    },
    {
      "cell_type": "markdown",
      "metadata": {
        "id": "-cz5Xtt8li2P",
        "colab_type": "text"
      },
      "source": [
        "# Different Forms of Arguments"
      ]
    },
    {
      "cell_type": "markdown",
      "metadata": {
        "id": "sAKymDiRli2Q",
        "colab_type": "text"
      },
      "source": [
        "# 1. Default Arguments"
      ]
    },
    {
      "cell_type": "markdown",
      "metadata": {
        "id": "Zi0wVhGzli2R",
        "colab_type": "text"
      },
      "source": [
        "We can provide a default value to an argument by using the assignment operator (=). "
      ]
    },
    {
      "cell_type": "code",
      "metadata": {
        "id": "cstzcdSXli2R",
        "colab_type": "code",
        "colab": {},
        "outputId": "ac53a22b-93d8-417c-99f1-9477c7e9c3d9"
      },
      "source": [
        "def greet(name, msg=\"Good Morning\"):\n",
        "    \"\"\"\n",
        "    This function greets to person with the provided message\n",
        "    if message is not provided, it defaults to \"Good Morning\"\n",
        "    \"\"\"\n",
        "    print(\"Hello {0} , {1}\".format(name, msg))\n",
        "\n",
        "greet(\"satish\", \"Good Night\")\n"
      ],
      "execution_count": 0,
      "outputs": [
        {
          "output_type": "stream",
          "text": [
            "Hello satish , Good Night\n"
          ],
          "name": "stdout"
        }
      ]
    },
    {
      "cell_type": "code",
      "metadata": {
        "id": "Bn7P_3_Eli2U",
        "colab_type": "code",
        "colab": {},
        "outputId": "32550933-6360-40d2-ec12-7935a7e201d0"
      },
      "source": [
        "#with out msg argument\n",
        "greet(\"satish\")\n"
      ],
      "execution_count": 0,
      "outputs": [
        {
          "output_type": "stream",
          "text": [
            "Hello satish , Good Morning\n"
          ],
          "name": "stdout"
        }
      ]
    },
    {
      "cell_type": "markdown",
      "metadata": {
        "id": "JdT2ze0_li2W",
        "colab_type": "text"
      },
      "source": [
        "Once we have a default argument, all the arguments to its right must also have default values."
      ]
    },
    {
      "cell_type": "markdown",
      "metadata": {
        "id": "baX1UuHvli2W",
        "colab_type": "text"
      },
      "source": [
        "def greet(msg=\"Good Morning\", name)   \n",
        "\n",
        "#will get a SyntaxError : non-default argument follows default argument"
      ]
    },
    {
      "cell_type": "markdown",
      "metadata": {
        "id": "Jam4pOE4li2Y",
        "colab_type": "text"
      },
      "source": [
        "# 2. Keyword Arguments"
      ]
    },
    {
      "cell_type": "markdown",
      "metadata": {
        "id": "zO5kNdKGli2Z",
        "colab_type": "text"
      },
      "source": [
        "kwargs allows you to pass keyworded variable length of arguments to a function. You should use **kwargs if you want to handle named arguments in a function"
      ]
    },
    {
      "cell_type": "markdown",
      "metadata": {
        "id": "3IoMQIrdli2Z",
        "colab_type": "text"
      },
      "source": [
        "# Example:"
      ]
    },
    {
      "cell_type": "code",
      "metadata": {
        "id": "nhNpRpbhli2a",
        "colab_type": "code",
        "colab": {},
        "outputId": "15236b4d-5cac-4089-d9d2-8396fe33df95"
      },
      "source": [
        "def greet(**kwargs):\n",
        "    \"\"\"\n",
        "    This function greets to person with the provided message\n",
        "    \"\"\"\n",
        "    if kwargs:\n",
        "        print(\"Hello {0} , {1}\".format(kwargs['name'], kwargs['msg']))\n",
        "greet(name=\"satish\", msg=\"Good Morning\")\n"
      ],
      "execution_count": 0,
      "outputs": [
        {
          "output_type": "stream",
          "text": [
            "Hello satish , Good Morning\n"
          ],
          "name": "stdout"
        }
      ]
    },
    {
      "cell_type": "markdown",
      "metadata": {
        "id": "Yy6r5e_ali2c",
        "colab_type": "text"
      },
      "source": [
        "# 3. Arbitary Arguments"
      ]
    },
    {
      "cell_type": "markdown",
      "metadata": {
        "id": "9flswzXQli2d",
        "colab_type": "text"
      },
      "source": [
        "Sometimes, we do not know in advance the number of arguments that will be passed into a function.Python allows us to handle this kind of situation through function calls with arbitrary number of arguments."
      ]
    },
    {
      "cell_type": "markdown",
      "metadata": {
        "id": "amdoW72Tli2d",
        "colab_type": "text"
      },
      "source": [
        "# Example:"
      ]
    },
    {
      "cell_type": "code",
      "metadata": {
        "id": "6Lw2Jwmili2e",
        "colab_type": "code",
        "colab": {},
        "outputId": "4bf8f3c1-5ed3-49c7-c653-648530bf9e48"
      },
      "source": [
        "def greet(*names):\n",
        "    \"\"\"\n",
        "    This function greets all persons in the names tuple \n",
        "    \"\"\"\n",
        "    print(names)\n",
        "    \n",
        "    for name in names:\n",
        "        print(\"Hello,  {0} \".format(name))\n",
        "\n",
        "greet(\"satish\", \"murali\", \"naveen\", \"srikanth\")\n"
      ],
      "execution_count": 0,
      "outputs": [
        {
          "output_type": "stream",
          "text": [
            "('satish', 'murali', 'naveen', 'srikanth')\n",
            "Hello,  satish \n",
            "Hello,  murali \n",
            "Hello,  naveen \n",
            "Hello,  srikanth \n"
          ],
          "name": "stdout"
        }
      ]
    },
    {
      "cell_type": "code",
      "metadata": {
        "collapsed": true,
        "id": "R66_W5-yli2g",
        "colab_type": "code",
        "colab": {}
      },
      "source": [
        ""
      ],
      "execution_count": 0,
      "outputs": []
    }
  ]
}